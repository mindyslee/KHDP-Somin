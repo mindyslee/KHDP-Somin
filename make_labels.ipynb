{
 "cells": [
  {
   "cell_type": "code",
   "execution_count": null,
   "id": "a28dd071",
   "metadata": {},
   "outputs": [],
   "source": [
    "import pandas as pd\n",
    "import glob\n",
    "import os\n",
    "meta_dir = \"datasets/ECG-Registry/1.0.0/ECG_Metafile\"\n",
    "# .csv inside main child gunnam\n",
    "csv_paths = glob.glob(os.path.join(meta_dir, \"*.csv.csv\"))\n",
    "print(\"Contents of\", meta_dir, \":\", os.listdir(meta_dir))\n",
    "all_meta = []\n",
    "for p in csv_paths:\n",
    "    df = pd.read_csv(p)\n",
    "    df[\"source_csv\"] = os.path.basename(p)\n",
    "    all_meta.append(df)\n",
    "meta_df = pd.concat(all_meta, ignore_index=True)\n",
    "print(\"Total rows across all meta CSVs:\", len(meta_df))\n",
    "# build the labels csv\n",
    "labels = pd.DataFrame({\n",
    "    \"person_id\": meta_df[\"nid\"].astype(str),\n",
    "    \"ecg_file\":  meta_df[\"nstri_path\"].apply(lambda x: os.path.basename(x)),\n",
    "})\n",
    "# drop duplicates (if the same record appears in multiple CSVs)\n",
    "labels = labels.drop_duplicates().reset_index(drop=True)\n",
    "print(\"Unique ECG records:\", len(labels))\n",
    "os.makedirs(\"data\", exist_ok=True)\n",
    "labels.to_csv(\"data/labels.csv\", index=False)\n",
    "print(\"Saved labels.csv with columns:\", list(labels.columns))"
   ]
  }
 ],
 "metadata": {
  "language_info": {
   "name": "python"
  }
 },
 "nbformat": 4,
 "nbformat_minor": 5
}
