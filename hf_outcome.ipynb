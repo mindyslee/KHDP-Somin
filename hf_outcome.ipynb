{
 "cells": [
  {
   "cell_type": "code",
   "execution_count": null,
   "id": "fadaae30",
   "metadata": {},
   "outputs": [],
   "source": [
    "import pandas as pd\n",
    "import psycopg2 "
   ]
  },
  {
   "cell_type": "code",
   "execution_count": null,
   "id": "a077bb22",
   "metadata": {},
   "outputs": [],
   "source": [
    "labels = pd.read_csv(\"data/labels.csv\")\n",
    "# pull heart-failure flags from CDM\n",
    "conn = psycopg2.connect(\n",
    "    host=\"pg-2vge6o.vpc-pub-cdb-kr.gov-ntruss.com\",\n",
    "    port=5432,\n",
    "    database=\"cdm\",\n",
    "    user=\"mindy_lee\",\n",
    "    password=\"Nstri05!@\"\n",
    ")\n",
    "\n",
    "hf_sql = \"\"\"\n",
    "SELECT\n",
    "  person_id,\n",
    "  CASE WHEN COUNT(*) > 0 THEN 1 ELSE 0 END AS hf_outcome\n",
    "FROM cdm_public.condition_occurrence_v\n",
    "WHERE condition_concept_id IN (\n",
    "    316139,  -- heart failure\n",
    "    316140,  -- acute heart failure\n",
    "    315831   -- congestive heart failure\n",
    ")\n",
    "GROUP BY person_id\n",
    "\"\"\"\n",
    "hf_df = pd.read_sql(hf_sql, conn)\n",
    "conn.close()\n",
    "labels = labels.merge(hf_df, on=\"person_id\", how=\"left\")\n",
    "labels[\"hf_outcome\"] = labels[\"hf_outcome\"].fillna(0).astype(int)\n",
    "labels.to_csv(\"data/labels_with_hf.csv\", index=False)\n",
    "print(labels.head())\n",
    "print(\"Counts of outcomes:\\n\", labels[\"hf_outcome\"].value_counts())"
   ]
  }
 ],
 "metadata": {
  "language_info": {
   "name": "python"
  }
 },
 "nbformat": 4,
 "nbformat_minor": 5
}
